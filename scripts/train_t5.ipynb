{
 "cells": [
  {
   "cell_type": "code",
   "execution_count": 8,
   "id": "0bbb21a8",
   "metadata": {},
   "outputs": [
    {
     "name": "stderr",
     "output_type": "stream",
     "text": [
      "[nltk_data] Downloading package maxent_ne_chunker to\n",
      "[nltk_data]     C:\\Users\\Admin\\AppData\\Roaming\\nltk_data...\n",
      "[nltk_data]   Package maxent_ne_chunker is already up-to-date!\n",
      "[nltk_data] Downloading package punkt to\n",
      "[nltk_data]     C:\\Users\\Admin\\AppData\\Roaming\\nltk_data...\n",
      "[nltk_data]   Package punkt is already up-to-date!\n",
      "[nltk_data] Downloading package averaged_perceptron_tagger to\n",
      "[nltk_data]     C:\\Users\\Admin\\AppData\\Roaming\\nltk_data...\n",
      "[nltk_data]   Package averaged_perceptron_tagger is already up-to-\n",
      "[nltk_data]       date!\n",
      "[nltk_data] Downloading package words to\n",
      "[nltk_data]     C:\\Users\\Admin\\AppData\\Roaming\\nltk_data...\n",
      "[nltk_data]   Package words is already up-to-date!\n"
     ]
    },
    {
     "data": {
      "text/plain": [
       "True"
      ]
     },
     "execution_count": 8,
     "metadata": {},
     "output_type": "execute_result"
    }
   ],
   "source": [
    "# import and load data\n",
    "import pandas as pd\n",
    "import matplotlib.pyplot as plt\n",
    "import seaborn as sns\n",
    "import numpy as np\n",
    "import warnings\n",
    "warnings.filterwarnings(\"ignore\")\n",
    "import re\n",
    "import pickle\n",
    "import email\n",
    "from tqdm import tqdm\n",
    "import datetime\n",
    "from dateutil import parser\n",
    "import nltk\n",
    "\n",
    "\n",
    "nltk.download('maxent_ne_chunker')\n",
    "nltk.download('punkt')\n",
    "nltk.download('averaged_perceptron_tagger')\n",
    "nltk.download('words')\n",
    "\n",
    "\n"
   ]
  },
  {
   "cell_type": "code",
   "execution_count": 13,
   "id": "c912c3db",
   "metadata": {},
   "outputs": [
    {
     "data": {
      "text/plain": [
       "(1583, 1)"
      ]
     },
     "execution_count": 13,
     "metadata": {},
     "output_type": "execute_result"
    }
   ],
   "source": [
    "with open('../data/final_body.pickle', 'rb') as file:\n",
    "    dataset = pickle.load(file)\n",
    "\n",
    "df = pd.DataFrame()\n",
    "df['Body'] = dataset[0]\n",
    "df = df[df['Body']!='']\n",
    "df.shape"
   ]
  },
  {
   "cell_type": "code",
   "execution_count": 15,
   "id": "bdded03e",
   "metadata": {},
   "outputs": [
    {
     "data": {
      "text/html": [
       "<div>\n",
       "<style scoped>\n",
       "    .dataframe tbody tr th:only-of-type {\n",
       "        vertical-align: middle;\n",
       "    }\n",
       "\n",
       "    .dataframe tbody tr th {\n",
       "        vertical-align: top;\n",
       "    }\n",
       "\n",
       "    .dataframe thead th {\n",
       "        text-align: right;\n",
       "    }\n",
       "</style>\n",
       "<table border=\"1\" class=\"dataframe\">\n",
       "  <thead>\n",
       "    <tr style=\"text-align: right;\">\n",
       "      <th></th>\n",
       "      <th>Body</th>\n",
       "    </tr>\n",
       "  </thead>\n",
       "  <tbody>\n",
       "    <tr>\n",
       "      <th>0</th>\n",
       "      <td>This is pretty good God Bless the U S Air Force Someone pulled this off the Air Force Academy is very unofficial message board Written by a ' grad who apparently flies A What we all are REALLY thinking but a HOG driver says it Make no mistake about it this war is gonna be a Hawgdriver is dream no more of this sending GPS guided bombs from the ionosphere I want to camp out on the enemy is border I want to yell across the border in the immortal words of You tell 'em I am coming AND HELL'S COMING WITH ME I wanna punch in the face and say 'You gonna do something Or just stand there and bleed ' And then I wanna laugh maniacally as my shells decimate his camps I ai not talking about the Armor Piercing shells this time although the thought of poisoning their lungs if in the unlikely event they survived my attack with the dirty dust of spent uranium is quite refreshing that would make the cloud over New York seem like pure Oxygen I want High Explosive Incendiary rounds of them fired or hundred at a time like hundred grenades exploding all at once and that is just my jet the three coming with me brings that total to cans of CBU that is individual submunitions for them that is what I want I want Maverick missiles per jet that is of those things and if we run outta trucks and other small things to hit with those missiles I wanna find out what a maverick will do when it locks onto a terrorist and hits him at just over feet per second there might not be enough deceleration to detonate the thing but at that speed I do not think it would be necessary And I want pods of rockets hanging from my wings Seven white phosphorous and seven HEI I want the 'Willie ' to put a cloud of smoke to climb into the sky to let everyone following know that is where the gettin' is good And the HEI well I just want FRAG in the air tearing apart their greasy scumbag bodies the same way they tore into our nation and then we will start cleaning up with the almighty General Electric GAU A Avenger cannon what a perfect name AVENGER CANNON If that is all I had that is all I would want four hawgs with of our little friends lock and load hammer down But that is just my personal end here is what else I want I want and to take over CNN NBC ABC and every other news network to provide coverage of this war I want with his electronic chalkboard out there describing what is going on You see here across the top of the screen that ridge line is exactly where the attack is gonna come from you will see the Warthawgs come popping over them and unleash a fury that we have not seen since was on the prowl Speaking of that here they come and B These guys are great they remind me of linemen they do not get much press coverage but when they hit you man do you know it I want and belting out I'M PROUD TO BE AN ERICAN as the intro to Monday Night Air night would have a whole new meaning now I want to see air the HIT OF THE DAY Today is strike comes from a flight of two A Warthogs You will see here that some terrorist got the wild idea that he could shoot at these guys you can see the missile come up and totally miss the two jets and here you see as they roll in and unleash that awesome gun on the point of origin nothing left there now And that is our PLAY OF THE DAY I want in the field giving play by play descriptions I want of the Valkaries playing at full bore from every mountainside as we run in at feet I want WELCOME TO THE JUNGLE playing after the first bomb hits and when I am WINCHESTER ammunition I wanna land on  is personal airstrip grab him by his twisted dead neck and poke him in the eyes and say YOU JUST GOT KNOCKED OUT I want the NFL cheerleaders to send us off to war and the XFL cheerleaders to welcome us home And while we are at it I do not just want to beat the crap outta these scumbags I want to humiliate them too I want to see come outta retirement to start kicking some butt I want a cure for Alzheimer is right now to get back in working order and like says I want a cure for cancer to thaw out the 'Duke' and see just how pissed off he is right now I want STUKA terror sirens mounted to the wings of my Hawg although the unique whine of our engines is about all the terror siren we will need right now All right Zero slow down breathe in out ok I think the coffee has worn off a bit now and I should get back to work You just picked the wrong people to mess with not such a good day to be a bad guy</td>\n",
       "    </tr>\n",
       "    <tr>\n",
       "      <th>1</th>\n",
       "      <td>Attached please find the referenced lists On the list of I have not yet seen the list from Gobal Contracts with the corrected names but I cannot believe is a valid legal name We might want to get that sorted out before we start trading with them</td>\n",
       "    </tr>\n",
       "    <tr>\n",
       "      <th>2</th>\n",
       "      <td>mail The following expense report is ready for last changed To approve this expense report click on the following link for Concur</td>\n",
       "    </tr>\n",
       "    <tr>\n",
       "      <th>3</th>\n",
       "      <td>I have approved this expense report With regards to the Wyoming Gas Fair What is the total cost of that trip for you looks like or so including airfare hotel and ancillaries also What are his expenses going to be for this Thanks BT</td>\n",
       "    </tr>\n",
       "    <tr>\n",
       "      <th>4</th>\n",
       "      <td>sum up my costs and  is cost for this trip and forward to of the Hotel costs were on my credit card so all should have is his airfare and incidentals But we will sum it up for you</td>\n",
       "    </tr>\n",
       "  </tbody>\n",
       "</table>\n",
       "</div>"
      ],
      "text/plain": [
       "                                                                                                                                                                                                                                                                                                                                                                                                                                                                                                                                                                                                                                                                                                                                                                                                                                                                                                                                                                                                                                                                                                                                                                                                                                                                                                                                                                                                                                                                                                                                                                                                                                                                                                                                                                                                                                                                                                                                                                                                                                                                                                                                                                                                                                                                                                                                                                                                                                                                                                                                                                                                                                                                                                                                                                                                                                                                                                                                                                                                                                                                                                                                                                                                                                                                                                                                                                                                                                                                                                                                                                                                                                                                                                                                                                                                                                                                                                                                                                                                                                                                                                                                                                                                                                                                                                                                                                                                                                                                                                                                                                                                       Body\n",
       "0  This is pretty good God Bless the U S Air Force Someone pulled this off the Air Force Academy is very unofficial message board Written by a ' grad who apparently flies A What we all are REALLY thinking but a HOG driver says it Make no mistake about it this war is gonna be a Hawgdriver is dream no more of this sending GPS guided bombs from the ionosphere I want to camp out on the enemy is border I want to yell across the border in the immortal words of You tell 'em I am coming AND HELL'S COMING WITH ME I wanna punch in the face and say 'You gonna do something Or just stand there and bleed ' And then I wanna laugh maniacally as my shells decimate his camps I ai not talking about the Armor Piercing shells this time although the thought of poisoning their lungs if in the unlikely event they survived my attack with the dirty dust of spent uranium is quite refreshing that would make the cloud over New York seem like pure Oxygen I want High Explosive Incendiary rounds of them fired or hundred at a time like hundred grenades exploding all at once and that is just my jet the three coming with me brings that total to cans of CBU that is individual submunitions for them that is what I want I want Maverick missiles per jet that is of those things and if we run outta trucks and other small things to hit with those missiles I wanna find out what a maverick will do when it locks onto a terrorist and hits him at just over feet per second there might not be enough deceleration to detonate the thing but at that speed I do not think it would be necessary And I want pods of rockets hanging from my wings Seven white phosphorous and seven HEI I want the 'Willie ' to put a cloud of smoke to climb into the sky to let everyone following know that is where the gettin' is good And the HEI well I just want FRAG in the air tearing apart their greasy scumbag bodies the same way they tore into our nation and then we will start cleaning up with the almighty General Electric GAU A Avenger cannon what a perfect name AVENGER CANNON If that is all I had that is all I would want four hawgs with of our little friends lock and load hammer down But that is just my personal end here is what else I want I want and to take over CNN NBC ABC and every other news network to provide coverage of this war I want with his electronic chalkboard out there describing what is going on You see here across the top of the screen that ridge line is exactly where the attack is gonna come from you will see the Warthawgs come popping over them and unleash a fury that we have not seen since was on the prowl Speaking of that here they come and B These guys are great they remind me of linemen they do not get much press coverage but when they hit you man do you know it I want and belting out I'M PROUD TO BE AN ERICAN as the intro to Monday Night Air night would have a whole new meaning now I want to see air the HIT OF THE DAY Today is strike comes from a flight of two A Warthogs You will see here that some terrorist got the wild idea that he could shoot at these guys you can see the missile come up and totally miss the two jets and here you see as they roll in and unleash that awesome gun on the point of origin nothing left there now And that is our PLAY OF THE DAY I want in the field giving play by play descriptions I want of the Valkaries playing at full bore from every mountainside as we run in at feet I want WELCOME TO THE JUNGLE playing after the first bomb hits and when I am WINCHESTER ammunition I wanna land on  is personal airstrip grab him by his twisted dead neck and poke him in the eyes and say YOU JUST GOT KNOCKED OUT I want the NFL cheerleaders to send us off to war and the XFL cheerleaders to welcome us home And while we are at it I do not just want to beat the crap outta these scumbags I want to humiliate them too I want to see come outta retirement to start kicking some butt I want a cure for Alzheimer is right now to get back in working order and like says I want a cure for cancer to thaw out the 'Duke' and see just how pissed off he is right now I want STUKA terror sirens mounted to the wings of my Hawg although the unique whine of our engines is about all the terror siren we will need right now All right Zero slow down breathe in out ok I think the coffee has worn off a bit now and I should get back to work You just picked the wrong people to mess with not such a good day to be a bad guy\n",
       "1                                                                                                                                                                                                                                                                                                                                                                                                                                                                                                                                                                                                                                                                                                                                                                                                                                                                                                                                                                                                                                                                                                                                                                                                                                                                                                                                                                                                                                                                                                                                                                                                                                                                                                                                                                                                                                                                                                                                                                                                                                                                                                                                                                                                                                                                                                                                                                                                                                                                                                                                                                                                                                                                                                                                                                                                                                                                                                                                                                                                                                                                                                                                                                                                                                                                                                                                                                                                                                                                                                                                                                                                                                                                                                                                                                                                                                                                                                                                                                                                                                                                                                                                                                                                                                                                                                                                                     Attached please find the referenced lists On the list of I have not yet seen the list from Gobal Contracts with the corrected names but I cannot believe is a valid legal name We might want to get that sorted out before we start trading with them\n",
       "2                                                                                                                                                                                                                                                                                                                                                                                                                                                                                                                                                                                                                                                                                                                                                                                                                                                                                                                                                                                                                                                                                                                                                                                                                                                                                                                                                                                                                                                                                                                                                                                                                                                                                                                                                                                                                                                                                                                                                                                                                                                                                                                                                                                                                                                                                                                                                                                                                                                                                                                                                                                                                                                                                                                                                                                                                                                                                                                                                                                                                                                                                                                                                                                                                                                                                                                                                                                                                                                                                                                                                                                                                                                                                                                                                                                                                                                                                                                                                                                                                                                                                                                                                                                                                                                                                                                                                                                                                                                                         mail The following expense report is ready for last changed To approve this expense report click on the following link for Concur\n",
       "3                                                                                                                                                                                                                                                                                                                                                                                                                                                                                                                                                                                                                                                                                                                                                                                                                                                                                                                                                                                                                                                                                                                                                                                                                                                                                                                                                                                                                                                                                                                                                                                                                                                                                                                                                                                                                                                                                                                                                                                                                                                                                                                                                                                                                                                                                                                                                                                                                                                                                                                                                                                                                                                                                                                                                                                                                                                                                                                                                                                                                                                                                                                                                                                                                                                                                                                                                                                                                                                                                                                                                                                                                                                                                                                                                                                                                                                                                                                                                                                                                                                                                                                                                                                                                                                                                                                                                                   I have approved this expense report With regards to the Wyoming Gas Fair What is the total cost of that trip for you looks like or so including airfare hotel and ancillaries also What are his expenses going to be for this Thanks BT\n",
       "4                                                                                                                                                                                                                                                                                                                                                                                                                                                                                                                                                                                                                                                                                                                                                                                                                                                                                                                                                                                                                                                                                                                                                                                                                                                                                                                                                                                                                                                                                                                                                                                                                                                                                                                                                                                                                                                                                                                                                                                                                                                                                                                                                                                                                                                                                                                                                                                                                                                                                                                                                                                                                                                                                                                                                                                                                                                                                                                                                                                                                                                                                                                                                                                                                                                                                                                                                                                                                                                                                                                                                                                                                                                                                                                                                                                                                                                                                                                                                                                                                                                                                                                                                                                                                                                                                                                                                                                                                       sum up my costs and  is cost for this trip and forward to of the Hotel costs were on my credit card so all should have is his airfare and incidentals But we will sum it up for you"
      ]
     },
     "execution_count": 15,
     "metadata": {},
     "output_type": "execute_result"
    }
   ],
   "source": [
    "pd.set_option('display.max_colwidth', None)\n",
    "df.head()"
   ]
  },
  {
   "cell_type": "code",
   "execution_count": 19,
   "id": "cd5efd50",
   "metadata": {},
   "outputs": [],
   "source": [
    "msg =df.iloc[0]['Body']\n",
    "\n",
    "def chunk_text(text, max_length=30):\n",
    "        chunks = []\n",
    "        text = text.split(\" \")\n",
    "        for i in range(0, len(text), max_length):\n",
    "            chunks.append(' '.join(text[i:i + max_length]))\n",
    "        return chunks\n",
    "\n",
    "\n",
    "df['Body'] = df['Body'].apply(lambda text: chunk_text(text))\n",
    "df = df.explode('Body')"
   ]
  },
  {
   "cell_type": "code",
   "execution_count": 20,
   "id": "660950f5",
   "metadata": {},
   "outputs": [
    {
     "data": {
      "text/html": [
       "<div>\n",
       "<style scoped>\n",
       "    .dataframe tbody tr th:only-of-type {\n",
       "        vertical-align: middle;\n",
       "    }\n",
       "\n",
       "    .dataframe tbody tr th {\n",
       "        vertical-align: top;\n",
       "    }\n",
       "\n",
       "    .dataframe thead th {\n",
       "        text-align: right;\n",
       "    }\n",
       "</style>\n",
       "<table border=\"1\" class=\"dataframe\">\n",
       "  <thead>\n",
       "    <tr style=\"text-align: right;\">\n",
       "      <th></th>\n",
       "      <th>Body</th>\n",
       "    </tr>\n",
       "  </thead>\n",
       "  <tbody>\n",
       "    <tr>\n",
       "      <th>0</th>\n",
       "      <td>This is pretty good God Bless the U S Air Force Someone pulled this off the Air Force Academy is very unofficial message board Written by a ' grad who</td>\n",
       "    </tr>\n",
       "    <tr>\n",
       "      <th>0</th>\n",
       "      <td>apparently flies A What we all are REALLY thinking but a HOG driver says it Make no mistake about it this war is gonna be a Hawgdriver is dream no</td>\n",
       "    </tr>\n",
       "    <tr>\n",
       "      <th>0</th>\n",
       "      <td>more of this sending GPS guided bombs from the ionosphere I want to camp out on the enemy is border I want to yell across the border in the immortal</td>\n",
       "    </tr>\n",
       "    <tr>\n",
       "      <th>0</th>\n",
       "      <td>words of You tell 'em I am coming AND HELL'S COMING WITH ME I wanna punch in the face and say 'You gonna do something Or just stand there and</td>\n",
       "    </tr>\n",
       "    <tr>\n",
       "      <th>0</th>\n",
       "      <td>bleed ' And then I wanna laugh maniacally as my shells decimate his camps I ai not talking about the Armor Piercing shells this time although the thought of poisoning</td>\n",
       "    </tr>\n",
       "    <tr>\n",
       "      <th>...</th>\n",
       "      <td>...</td>\n",
       "    </tr>\n",
       "    <tr>\n",
       "      <th>1701</th>\n",
       "      <td>address the hedges in the books will this need to be included in the CES true up Also wants to know if he should sign the letter Colleen I told</td>\n",
       "    </tr>\n",
       "    <tr>\n",
       "      <th>1701</th>\n",
       "      <td>you would anwser that question</td>\n",
       "    </tr>\n",
       "    <tr>\n",
       "      <th>1702</th>\n",
       "      <td>Yes CES Retail did take this gas for ch The Canonsburg office was responsible for the noms Yes the deal needs to be input into can input has copies of</td>\n",
       "    </tr>\n",
       "    <tr>\n",
       "      <th>1702</th>\n",
       "      <td>the monthly invoices from T F Operating for all three months Deal Volume MCF per month Price for MCF I would not worry about the Mcf issue here put the</td>\n",
       "    </tr>\n",
       "    <tr>\n",
       "      <th>1702</th>\n",
       "      <td>volumes and price in and pay the bill did CES take this gas for and would like to see this deal in the system</td>\n",
       "    </tr>\n",
       "  </tbody>\n",
       "</table>\n",
       "<p>6515 rows × 1 columns</p>\n",
       "</div>"
      ],
      "text/plain": [
       "                                                                                                                                                                        Body\n",
       "0                     This is pretty good God Bless the U S Air Force Someone pulled this off the Air Force Academy is very unofficial message board Written by a ' grad who\n",
       "0                         apparently flies A What we all are REALLY thinking but a HOG driver says it Make no mistake about it this war is gonna be a Hawgdriver is dream no\n",
       "0                       more of this sending GPS guided bombs from the ionosphere I want to camp out on the enemy is border I want to yell across the border in the immortal\n",
       "0                              words of You tell 'em I am coming AND HELL'S COMING WITH ME I wanna punch in the face and say 'You gonna do something Or just stand there and\n",
       "0     bleed ' And then I wanna laugh maniacally as my shells decimate his camps I ai not talking about the Armor Piercing shells this time although the thought of poisoning\n",
       "...                                                                                                                                                                      ...\n",
       "1701                         address the hedges in the books will this need to be included in the CES true up Also wants to know if he should sign the letter Colleen I told\n",
       "1701                                                                                                                                          you would anwser that question\n",
       "1702                  Yes CES Retail did take this gas for ch The Canonsburg office was responsible for the noms Yes the deal needs to be input into can input has copies of\n",
       "1702                 the monthly invoices from T F Operating for all three months Deal Volume MCF per month Price for MCF I would not worry about the Mcf issue here put the\n",
       "1702                                                           volumes and price in and pay the bill did CES take this gas for and would like to see this deal in the system\n",
       "\n",
       "[6515 rows x 1 columns]"
      ]
     },
     "execution_count": 20,
     "metadata": {},
     "output_type": "execute_result"
    }
   ],
   "source": [
    "df"
   ]
  },
  {
   "cell_type": "code",
   "execution_count": 21,
   "id": "88b2e01e",
   "metadata": {},
   "outputs": [],
   "source": [
    "# change the data into input and output sequences for our Encoder-decoder architectures\n",
    "def split_sequence(df):\n",
    "    '''\n",
    "    To convert our data into encoder-decoder sequences we split sentences between contiguous spans of words.    \n",
    "    sentences with < 5 words are dropped\n",
    "    '''\n",
    "    enc_seq = []\n",
    "    dec_seq = []\n",
    "\n",
    "    for text in tqdm(df.Body):\n",
    "        sent = text.split()\n",
    "        for i in range(5,len(sent)):\n",
    "            enc_seq.append(''+' '.join(sent[:i]))\n",
    "            dec_seq.append(' '.join(sent[i:i+5]))\n",
    "\n",
    "    # put all in a dataframe\n",
    "    data = pd.DataFrame()\n",
    "    data['enc_seq'] = enc_seq\n",
    "    data['dec_seq'] = dec_seq\n",
    "\n",
    "    return data"
   ]
  },
  {
   "cell_type": "code",
   "execution_count": 22,
   "metadata": {},
   "outputs": [
    {
     "name": "stderr",
     "output_type": "stream",
     "text": [
      "100%|██████████| 6515/6515 [00:00<00:00, 13240.50it/s]\n"
     ]
    },
    {
     "data": {
      "text/html": [
       "<div>\n",
       "<style scoped>\n",
       "    .dataframe tbody tr th:only-of-type {\n",
       "        vertical-align: middle;\n",
       "    }\n",
       "\n",
       "    .dataframe tbody tr th {\n",
       "        vertical-align: top;\n",
       "    }\n",
       "\n",
       "    .dataframe thead th {\n",
       "        text-align: right;\n",
       "    }\n",
       "</style>\n",
       "<table border=\"1\" class=\"dataframe\">\n",
       "  <thead>\n",
       "    <tr style=\"text-align: right;\">\n",
       "      <th></th>\n",
       "      <th>enc_seq</th>\n",
       "      <th>dec_seq</th>\n",
       "    </tr>\n",
       "  </thead>\n",
       "  <tbody>\n",
       "    <tr>\n",
       "      <th>0</th>\n",
       "      <td>This is pretty good God</td>\n",
       "      <td>Bless the U S Air</td>\n",
       "    </tr>\n",
       "    <tr>\n",
       "      <th>1</th>\n",
       "      <td>This is pretty good God Bless</td>\n",
       "      <td>the U S Air Force</td>\n",
       "    </tr>\n",
       "    <tr>\n",
       "      <th>2</th>\n",
       "      <td>This is pretty good God Bless the</td>\n",
       "      <td>U S Air Force Someone</td>\n",
       "    </tr>\n",
       "    <tr>\n",
       "      <th>3</th>\n",
       "      <td>This is pretty good God Bless the U</td>\n",
       "      <td>S Air Force Someone pulled</td>\n",
       "    </tr>\n",
       "    <tr>\n",
       "      <th>4</th>\n",
       "      <td>This is pretty good God Bless the U S</td>\n",
       "      <td>Air Force Someone pulled this</td>\n",
       "    </tr>\n",
       "  </tbody>\n",
       "</table>\n",
       "</div>"
      ],
      "text/plain": [
       "                                 enc_seq                        dec_seq\n",
       "0                This is pretty good God              Bless the U S Air\n",
       "1          This is pretty good God Bless              the U S Air Force\n",
       "2      This is pretty good God Bless the          U S Air Force Someone\n",
       "3    This is pretty good God Bless the U     S Air Force Someone pulled\n",
       "4  This is pretty good God Bless the U S  Air Force Someone pulled this"
      ]
     },
     "execution_count": 22,
     "metadata": {},
     "output_type": "execute_result"
    }
   ],
   "source": [
    "data = split_sequence(df)\n",
    "data.head()"
   ]
  },
  {
   "cell_type": "code",
   "execution_count": 24,
   "id": "a2314b0d",
   "metadata": {},
   "outputs": [],
   "source": [
    "data.to_csv('../data/email_pairs.csv', index=False)"
   ]
  },
  {
   "cell_type": "code",
   "execution_count": 1,
   "id": "2401944b",
   "metadata": {},
   "outputs": [
    {
     "name": "stderr",
     "output_type": "stream",
     "text": [
      "c:\\Users\\Admin\\anaconda3\\envs\\deeplearning\\Lib\\site-packages\\tqdm\\auto.py:21: TqdmWarning: IProgress not found. Please update jupyter and ipywidgets. See https://ipywidgets.readthedocs.io/en/stable/user_install.html\n",
      "  from .autonotebook import tqdm as notebook_tqdm\n"
     ]
    }
   ],
   "source": [
    "import os\n",
    "from transformers import (\n",
    "    T5ForConditionalGeneration,\n",
    "    T5Tokenizer,\n",
    "    TextDataset,\n",
    "    DataCollatorForSeq2Seq,\n",
    "    Trainer,\n",
    "    TrainingArguments,\n",
    ")\n",
    "import datetime"
   ]
  },
  {
   "cell_type": "code",
   "execution_count": 35,
   "id": "524e78b9",
   "metadata": {},
   "outputs": [
    {
     "name": "stderr",
     "output_type": "stream",
     "text": [
      "c:\\Users\\Admin\\anaconda3\\envs\\deeplearning\\Lib\\site-packages\\huggingface_hub\\file_download.py:143: UserWarning: `huggingface_hub` cache-system uses symlinks by default to efficiently store duplicated files but your machine does not support them in C:\\Users\\Admin\\.cache\\huggingface\\hub\\models--t5-small. Caching files will still work but in a degraded version that might require more space on your disk. This warning can be disabled by setting the `HF_HUB_DISABLE_SYMLINKS_WARNING` environment variable. For more details, see https://huggingface.co/docs/huggingface_hub/how-to-cache#limitations.\n",
      "To support symlinks on Windows, you either need to activate Developer Mode or to run Python as an administrator. In order to activate developer mode, see this article: https://docs.microsoft.com/en-us/windows/apps/get-started/enable-your-device-for-development\n",
      "  warnings.warn(message)\n",
      "Xet Storage is enabled for this repo, but the 'hf_xet' package is not installed. Falling back to regular HTTP download. For better performance, install the package with: `pip install huggingface_hub[hf_xet]` or `pip install hf_xet`\n"
     ]
    }
   ],
   "source": [
    "model_name = \"t5-small\"\n",
    "timestamp = datetime.datetime.now().strftime(\"%Y%m%d_%H%M%S\")\n",
    "output_dir = f\"../model/t5/fine-tuned-{timestamp}\"\n",
    "\n",
    "# Load model and tokenizer\n",
    "tokenizer = T5Tokenizer.from_pretrained(model_name)\n",
    "tokenizer.pad_token = tokenizer.eos_token  # required\n",
    "model = T5ForConditionalGeneration.from_pretrained(model_name)"
   ]
  },
  {
   "cell_type": "code",
   "execution_count": 36,
   "id": "0bdd4e39",
   "metadata": {},
   "outputs": [],
   "source": [
    "# pip install SentencePiece \n",
    "import pandas as pd\n",
    "from datasets import Dataset\n",
    "\n",
    "data = pd.read_csv('../data/email_pairs.csv').dropna()\n",
    "dataset = Dataset.from_pandas(data)"
   ]
  },
  {
   "cell_type": "code",
   "execution_count": null,
   "id": "81f60ce7",
   "metadata": {},
   "outputs": [],
   "source": [
    "def preprocess_function(examples):\n",
    "    inputs = examples['enc_seq']\n",
    "    targets = examples['dec_seq']\n",
    "    model_inputs = tokenizer(inputs, max_length=30, truncation=True, padding=\"max_length\")\n",
    "    labels = tokenizer(targets, max_length=16, truncation=True, padding=\"max_length\")\n",
    "    model_inputs[\"labels\"] = labels[\"input_ids\"]\n",
    "    return model_inputs"
   ]
  },
  {
   "cell_type": "code",
   "execution_count": 38,
   "id": "34e41fac",
   "metadata": {},
   "outputs": [
    {
     "name": "stderr",
     "output_type": "stream",
     "text": [
      "Map: 100%|██████████| 137809/137809 [00:50<00:00, 2711.44 examples/s]\n"
     ]
    }
   ],
   "source": [
    "# Tokenize datasets\n",
    "tokenized_data = dataset.map(preprocess_function, batched=True)"
   ]
  },
  {
   "cell_type": "code",
   "execution_count": 41,
   "id": "95eae8ee",
   "metadata": {},
   "outputs": [],
   "source": [
    "split_data = tokenized_data.train_test_split(test_size=0.1, seed=42)"
   ]
  },
  {
   "cell_type": "code",
   "execution_count": 42,
   "id": "298b8528",
   "metadata": {},
   "outputs": [],
   "source": [
    "# Data collator for seq2seq\n",
    "data_collator = DataCollatorForSeq2Seq(tokenizer=tokenizer, model=model)"
   ]
  },
  {
   "cell_type": "code",
   "execution_count": 65,
   "id": "a82fbea6",
   "metadata": {},
   "outputs": [],
   "source": [
    "# Training arguments\n",
    "training_args = TrainingArguments(\n",
    "    output_dir=output_dir,\n",
    "    per_device_train_batch_size=4,\n",
    "    per_device_eval_batch_size=4,\n",
    "    num_train_epochs=2,\n",
    "    save_strategy=\"epoch\",\n",
    "    logging_steps=500,\n",
    "    fp16=True,  # IMPORTANT: for memory savings on 1050\n",
    "    gradient_accumulation_steps=1,  # Effective batch size = 8\n",
    "    save_total_limit=2,\n",
    "    report_to=\"none\"\n",
    ")"
   ]
  },
  {
   "cell_type": "code",
   "execution_count": 66,
   "id": "cc31d9f6",
   "metadata": {},
   "outputs": [
    {
     "name": "stderr",
     "output_type": "stream",
     "text": [
      "C:\\Users\\Admin\\AppData\\Local\\Temp\\ipykernel_11820\\4165279278.py:2: FutureWarning: `tokenizer` is deprecated and will be removed in version 5.0.0 for `Trainer.__init__`. Use `processing_class` instead.\n",
      "  trainer = Trainer(\n"
     ]
    }
   ],
   "source": [
    "# Trainer setup\n",
    "trainer = Trainer(\n",
    "    model=model,\n",
    "    args=training_args,\n",
    "    train_dataset=tokenized_data,\n",
    "    tokenizer=tokenizer,\n",
    "    data_collator=data_collator,\n",
    ")"
   ]
  },
  {
   "cell_type": "code",
   "execution_count": null,
   "id": "b0143e03",
   "metadata": {},
   "outputs": [
    {
     "data": {
      "text/html": [
       "\n",
       "    <div>\n",
       "      \n",
       "      <progress value='9775' max='68906' style='width:300px; height:20px; vertical-align: middle;'></progress>\n",
       "      [ 9775/68906 38:47 < 3:54:42, 4.20 it/s, Epoch 0.28/2]\n",
       "    </div>\n",
       "    <table border=\"1\" class=\"dataframe\">\n",
       "  <thead>\n",
       " <tr style=\"text-align: left;\">\n",
       "      <th>Step</th>\n",
       "      <th>Training Loss</th>\n",
       "    </tr>\n",
       "  </thead>\n",
       "  <tbody>\n",
       "    <tr>\n",
       "      <td>500</td>\n",
       "      <td>2.026200</td>\n",
       "    </tr>\n",
       "    <tr>\n",
       "      <td>1000</td>\n",
       "      <td>1.981900</td>\n",
       "    </tr>\n",
       "    <tr>\n",
       "      <td>1500</td>\n",
       "      <td>1.906000</td>\n",
       "    </tr>\n",
       "    <tr>\n",
       "      <td>2000</td>\n",
       "      <td>1.877300</td>\n",
       "    </tr>\n",
       "    <tr>\n",
       "      <td>2500</td>\n",
       "      <td>1.925500</td>\n",
       "    </tr>\n",
       "    <tr>\n",
       "      <td>3000</td>\n",
       "      <td>1.855500</td>\n",
       "    </tr>\n",
       "    <tr>\n",
       "      <td>3500</td>\n",
       "      <td>1.828100</td>\n",
       "    </tr>\n",
       "    <tr>\n",
       "      <td>4000</td>\n",
       "      <td>1.849400</td>\n",
       "    </tr>\n",
       "    <tr>\n",
       "      <td>4500</td>\n",
       "      <td>1.832200</td>\n",
       "    </tr>\n",
       "    <tr>\n",
       "      <td>5000</td>\n",
       "      <td>1.832500</td>\n",
       "    </tr>\n",
       "    <tr>\n",
       "      <td>5500</td>\n",
       "      <td>1.808200</td>\n",
       "    </tr>\n",
       "    <tr>\n",
       "      <td>6000</td>\n",
       "      <td>1.813000</td>\n",
       "    </tr>\n",
       "    <tr>\n",
       "      <td>6500</td>\n",
       "      <td>1.820100</td>\n",
       "    </tr>\n",
       "    <tr>\n",
       "      <td>7000</td>\n",
       "      <td>1.806900</td>\n",
       "    </tr>\n",
       "    <tr>\n",
       "      <td>7500</td>\n",
       "      <td>1.769400</td>\n",
       "    </tr>\n",
       "    <tr>\n",
       "      <td>8000</td>\n",
       "      <td>1.785400</td>\n",
       "    </tr>\n",
       "    <tr>\n",
       "      <td>8500</td>\n",
       "      <td>1.812900</td>\n",
       "    </tr>\n",
       "    <tr>\n",
       "      <td>9000</td>\n",
       "      <td>1.785800</td>\n",
       "    </tr>\n",
       "    <tr>\n",
       "      <td>9500</td>\n",
       "      <td>1.784400</td>\n",
       "    </tr>\n",
       "  </tbody>\n",
       "</table><p>"
      ],
      "text/plain": [
       "<IPython.core.display.HTML object>"
      ]
     },
     "metadata": {},
     "output_type": "display_data"
    }
   ],
   "source": [
    "trainer.train()\n",
    "\n",
    "\n",
    "# trainer.train(resume_from_checkpoint=True)"
   ]
  },
  {
   "cell_type": "code",
   "execution_count": null,
   "id": "5732a770",
   "metadata": {},
   "outputs": [],
   "source": [
    "trainer.save_model(output_dir)\n",
    "tokenizer.save_pretrained(output_dir)\n",
    "\n",
    "print(f\"✅ Model saved at {output_dir}\")\n"
   ]
  },
  {
   "cell_type": "code",
   "execution_count": null,
   "id": "be7a7ec9",
   "metadata": {},
   "outputs": [],
   "source": []
  }
 ],
 "metadata": {
  "kernelspec": {
   "display_name": "deeplearning",
   "language": "python",
   "name": "python3"
  },
  "language_info": {
   "codemirror_mode": {
    "name": "ipython",
    "version": 3
   },
   "file_extension": ".py",
   "mimetype": "text/x-python",
   "name": "python",
   "nbconvert_exporter": "python",
   "pygments_lexer": "ipython3",
   "version": "3.12.5"
  }
 },
 "nbformat": 4,
 "nbformat_minor": 5
}
